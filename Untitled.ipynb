{
 "cells": [
  {
   "cell_type": "code",
   "execution_count": null,
   "id": "7fb2c91c-d1c8-4e69-8bf9-1fd76893b0d8",
   "metadata": {},
   "outputs": [],
   "source": [
    "!conda update cudnn"
   ]
  },
  {
   "cell_type": "code",
   "execution_count": 3,
   "id": "c7d4379f-17cd-443a-8a1b-c9db73c88ea2",
   "metadata": {},
   "outputs": [
    {
     "name": "stderr",
     "output_type": "stream",
     "text": [
      "\n",
      "Usage:   \n",
      "  pip install [options] <requirement specifier> [package-index-options] ...\n",
      "  pip install [options] -r <requirements file> [package-index-options] ...\n",
      "  pip install [options] [-e] <vcs project url> ...\n",
      "  pip install [options] [-e] <local project path> ...\n",
      "  pip install [options] <archive url/path> ...\n",
      "\n",
      "no such option: --update\n"
     ]
    }
   ],
   "source": [
    "!pip install --update pip"
   ]
  },
  {
   "cell_type": "code",
   "execution_count": null,
   "id": "43a4e082-7328-4350-b940-af2b5eabe4f0",
   "metadata": {},
   "outputs": [],
   "source": []
  }
 ],
 "metadata": {
  "kernelspec": {
   "display_name": "Python 3 (ipykernel)",
   "language": "python",
   "name": "python3"
  },
  "language_info": {
   "codemirror_mode": {
    "name": "ipython",
    "version": 3
   },
   "file_extension": ".py",
   "mimetype": "text/x-python",
   "name": "python",
   "nbconvert_exporter": "python",
   "pygments_lexer": "ipython3",
   "version": "3.9.15"
  }
 },
 "nbformat": 4,
 "nbformat_minor": 5
}
